{
 "cells": [
  {
   "cell_type": "markdown",
   "id": "9e98ec5c",
   "metadata": {},
   "source": [
    "# Modeling notebook"
   ]
  },
  {
   "cell_type": "code",
   "execution_count": null,
   "id": "c3590a65",
   "metadata": {},
   "outputs": [],
   "source": [
    "import os\n",
    "from src.train import train_main\n",
    "os.environ['DATASET_PATH'] = os.environ.get('DATASET_PATH', '')\n",
    "train_main(['--data', os.environ['DATASET_PATH'], '--task', 'mortality', '--quick'])"
   ]
  }
 ],
 "metadata": {
  "language_info": {
   "name": "python"
  }
 },
 "nbformat": 4,
 "nbformat_minor": 5
}
