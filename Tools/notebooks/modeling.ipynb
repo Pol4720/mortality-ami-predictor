{
 "cells": [
  {
   "cell_type": "markdown",
   "id": "9e98ec5c",
   "metadata": {},
   "source": [
    "# Modeling notebook"
   ]
  },
  {
   "cell_type": "code",
   "execution_count": null,
   "id": "c3590a65",
   "metadata": {},
   "outputs": [],
   "source": [
    "# Updated to use new modular structure\n",
    "import os\n",
    "import pandas as pd\n",
    "from src.data_load import load_dataset, train_test_split\n",
    "from src.cleaning import quick_clean\n",
    "from src.features import safe_feature_columns\n",
    "from src.training import train_best_classifier\n",
    "\n",
    "# Load data\n",
    "dataset_path = os.environ.get('DATASET_PATH', '../DATA/recuima-020425-fragment.csv')\n",
    "df = load_dataset(dataset_path)\n",
    "\n",
    "# Split data\n",
    "train_df, test_df = train_test_split(df, test_size=0.2, strategy=\"stratified\", target_column=\"mortalidad\")\n",
    "\n",
    "# Clean data\n",
    "train_clean = quick_clean(train_df, target_column=\"mortalidad\")\n",
    "test_clean = quick_clean(test_df, target_column=\"mortalidad\")\n",
    "\n",
    "# Prepare features\n",
    "feature_cols = safe_feature_columns(train_clean, exclude_cols=[\"mortalidad\"])\n",
    "X_train = train_clean[feature_cols]\n",
    "y_train = train_clean[\"mortalidad\"]\n",
    "X_test = test_clean[feature_cols]\n",
    "y_test = test_clean[\"mortalidad\"]\n",
    "\n",
    "print(f\"Training set: {X_train.shape}\")\n",
    "print(f\"Test set: {X_test.shape}\")\n",
    "\n",
    "# Train best classifier\n",
    "print(\"\\nTraining best classifier...\")\n",
    "model, results = train_best_classifier(\n",
    "    X_train, y_train,\n",
    "    model_name=\"xgboost\",\n",
    "    cv_folds=3,  # Quick mode\n",
    "    use_smote=True\n",
    ")\n",
    "\n",
    "print(f\"\\nBest model trained!\")\n",
    "print(f\"Cross-validation score: {results.get('cv_score', 'N/A')}\")\n"
   ]
  }
 ],
 "metadata": {
  "language_info": {
   "name": "python"
  }
 },
 "nbformat": 4,
 "nbformat_minor": 5
}
