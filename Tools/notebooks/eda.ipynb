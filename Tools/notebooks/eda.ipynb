{
 "cells": [
  {
   "cell_type": "markdown",
   "id": "bb03fad0",
   "metadata": {},
   "source": [
    "# EDA: AMI Mortality / Arrhythmia\n",
    "Set DATASET_PATH as env var or provide path here."
   ]
  },
  {
   "cell_type": "code",
   "execution_count": null,
   "id": "b9ac0118",
   "metadata": {},
   "outputs": [],
   "source": [
    "import os, pandas as pd\n",
    "from src.config import CONFIG\n",
    "from src.data import load_dataset, summarize_dataframe, save_eda_plots\n",
    "DATASET_PATH = os.environ.get('DATASET_PATH', CONFIG.dataset_path)\n",
    "df = load_dataset(DATASET_PATH)\n",
    "summ = summarize_dataframe(df)\n",
    "summ['describe'].head()"
   ]
  },
  {
   "cell_type": "code",
   "execution_count": null,
   "id": "e1e37e8c",
   "metadata": {},
   "outputs": [],
   "source": [
    "# Save plots\n",
    "save_eda_plots(df)\n",
    "list(summ.keys())"
   ]
  }
 ],
 "metadata": {
  "language_info": {
   "name": "python"
  }
 },
 "nbformat": 4,
 "nbformat_minor": 5
}
