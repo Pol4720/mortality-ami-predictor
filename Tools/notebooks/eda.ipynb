{
 "cells": [
  {
   "cell_type": "markdown",
   "id": "bb03fad0",
   "metadata": {},
   "source": [
    "# EDA: AMI Mortality / Arrhythmia\n",
    "Set DATASET_PATH as env var or provide path here."
   ]
  },
  {
   "cell_type": "code",
   "execution_count": null,
   "id": "b9ac0118",
   "metadata": {},
   "outputs": [],
   "source": [
    "# Updated to use new modular EDA structure\n",
    "import os\n",
    "import pandas as pd\n",
    "from src.data import load_dataset\n",
    "from src.eda import EDAAnalyzer, quick_eda\n",
    "\n",
    "# Load data\n",
    "DATASET_PATH = os.environ.get('DATASET_PATH', '../DATA/recuima-020425-fragment.csv')\n",
    "df = load_dataset(DATASET_PATH)\n",
    "\n",
    "print(f\"Dataset shape: {df.shape}\")\n",
    "print(f\"Columns: {list(df.columns)}\")\n",
    "\n",
    "# Quick EDA\n",
    "print(\"\\nPerforming quick EDA...\")\n",
    "analyzer = quick_eda(df, run_pca=False)\n",
    "\n",
    "# Get summary report\n",
    "summary = analyzer.generate_summary_report()\n",
    "print(\"\\nSummary Report:\")\n",
    "for key, value in summary.items():\n",
    "    print(f\"  {key}: {value}\")\n",
    "\n",
    "# Display univariate stats for first few columns\n",
    "print(\"\\nUnivariate Statistics (first 5 columns):\")\n",
    "for col_name, stats in list(analyzer.univariate_results.items())[:5]:\n",
    "    print(f\"\\n{col_name} ({stats.variable_type}):\")\n",
    "    if stats.variable_type == 'numerical':\n",
    "        print(f\"  Mean: {stats.mean:.2f if stats.mean else 'N/A'}\")\n",
    "        print(f\"  Median: {stats.median:.2f if stats.median else 'N/A'}\")\n",
    "        print(f\"  Std: {stats.std:.2f if stats.std else 'N/A'}\")\n",
    "    else:\n",
    "        print(f\"  Categories: {stats.n_categories}\")\n",
    "        print(f\"  Mode: {stats.mode}\")\n"
   ]
  },
  {
   "cell_type": "code",
   "execution_count": null,
   "id": "e1e37e8c",
   "metadata": {},
   "outputs": [],
   "source": [
    "# Plot distribution for a numerical variable\n",
    "if len(analyzer.numeric_cols) > 0:\n",
    "    col = analyzer.numeric_cols[0]\n",
    "    print(f\"\\nPlotting distribution for: {col}\")\n",
    "    fig = analyzer.plot_distribution(col, plot_type='histogram')\n",
    "    fig.show()\n",
    "\n",
    "# Plot correlation matrix\n",
    "if len(analyzer.numeric_cols) >= 2:\n",
    "    print(\"\\nGenerating correlation matrix...\")\n",
    "    fig = analyzer.plot_correlation_matrix(method='pearson')\n",
    "    fig.show()\n",
    "\n",
    "# Perform PCA if enough numerical variables\n",
    "if len(analyzer.numeric_cols) >= 2:\n",
    "    print(f\"\\nPerforming PCA on {len(analyzer.numeric_cols)} numerical variables...\")\n",
    "    try:\n",
    "        pca_results = analyzer.perform_pca(n_components=None, variance_threshold=0.95)\n",
    "        print(f\"  Components selected: {pca_results.n_components}\")\n",
    "        print(f\"  Total variance explained: {sum(pca_results.explained_variance_ratio):.2%}\")\n",
    "        \n",
    "        # Plot scree plot\n",
    "        fig = analyzer.plot_pca_scree()\n",
    "        fig.show()\n",
    "        \n",
    "        # Get feature importance\n",
    "        importance_df = analyzer.get_feature_importance_pca(n_components=3)\n",
    "        print(\"\\nTop 10 important features:\")\n",
    "        print(importance_df.head(10))\n",
    "    except Exception as e:\n",
    "        print(f\"PCA failed: {e}\")\n"
   ]
  }
 ],
 "metadata": {
  "language_info": {
   "name": "python"
  }
 },
 "nbformat": 4,
 "nbformat_minor": 5
}
