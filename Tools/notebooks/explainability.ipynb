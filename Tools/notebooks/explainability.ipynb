{
 "cells": [
  {
   "cell_type": "markdown",
   "id": "7a1d0ec3",
   "metadata": {},
   "source": [
    "# Explainability notebook"
   ]
  },
  {
   "cell_type": "code",
   "execution_count": null,
   "id": "7f270ddd",
   "metadata": {},
   "outputs": [],
   "source": [
    "# Updated to use new modular structure\n",
    "import os\n",
    "import pandas as pd\n",
    "from src.data import load_dataset\n",
    "from src.cleaning import quick_clean\n",
    "from src.features import safe_feature_columns\n",
    "from src.prediction import load_predictor\n",
    "from src.explainability import compute_shap_values, plot_shap_summary\n",
    "\n",
    "# Load model\n",
    "print(\"Loading model...\")\n",
    "predictor = load_predictor(model_name=\"best_classifier_mortality\")\n",
    "\n",
    "# Load and prepare data\n",
    "dataset_path = os.environ.get('DATASET_PATH', '../DATA/recuima-020425-fragment.csv')\n",
    "df = load_dataset(dataset_path)\n",
    "df_clean = quick_clean(df, target_column=\"mortalidad\")\n",
    "\n",
    "# Select features\n",
    "feature_cols = safe_feature_columns(df_clean, exclude_cols=[\"mortalidad\"])\n",
    "X = df_clean[feature_cols].iloc[:200]  # Use first 200 samples for speed\n",
    "\n",
    "print(f\"Computing SHAP values for {X.shape[0]} samples...\")\n",
    "\n",
    "# Compute SHAP values\n",
    "try:\n",
    "    explainer, shap_values = compute_shap_values(\n",
    "        predictor.model, \n",
    "        X.values, \n",
    "        feature_names=feature_cols,\n",
    "        max_samples=100\n",
    "    )\n",
    "    \n",
    "    # Plot summary\n",
    "    path = plot_shap_summary(\n",
    "        shap_values, \n",
    "        X.values, \n",
    "        feature_names=feature_cols,\n",
    "        name='mortality',\n",
    "        max_display=20\n",
    "    )\n",
    "    \n",
    "    print(f\"SHAP summary plot saved to: {path}\")\n",
    "except Exception as e:\n",
    "    print(f\"Error computing SHAP values: {e}\")\n",
    "    print(\"Make sure SHAP is installed: pip install shap\")\n"
   ]
  }
 ],
 "metadata": {
  "language_info": {
   "name": "python"
  }
 },
 "nbformat": 4,
 "nbformat_minor": 5
}
