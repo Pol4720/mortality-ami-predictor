{
 "cells": [
  {
   "cell_type": "markdown",
   "id": "7a1d0ec3",
   "metadata": {},
   "source": [
    "# Explainability notebook"
   ]
  },
  {
   "cell_type": "code",
   "execution_count": null,
   "id": "7f270ddd",
   "metadata": {},
   "outputs": [],
   "source": [
    "import os, joblib, pandas as pd\n",
    "from src.config import CONFIG\n",
    "from src.explain import shap_global_summary\n",
    "from src.data import load_dataset\n",
    "model = joblib.load('models/best_classifier_mortality.joblib')\n",
    "df = load_dataset(os.environ.get('DATASET_PATH', CONFIG.dataset_path))\n",
    "X = df.drop(columns=[CONFIG.target_column])\n",
    "path = shap_global_summary(model, X.iloc[:200], name='mortality')\n",
    "path"
   ]
  }
 ],
 "metadata": {
  "language_info": {
   "name": "python"
  }
 },
 "nbformat": 4,
 "nbformat_minor": 5
}
